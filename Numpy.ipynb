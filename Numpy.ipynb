{
 "cells": [
  {
   "cell_type": "code",
   "execution_count": null,
   "id": "bed95eda",
   "metadata": {},
   "outputs": [],
   "source": [
    "# NumPy is a library for the Python programming language, adding support for large, multi-dimensional arrays and matrices,\n",
    "# along with a large collection of high-level mathematical functions to operate on these arrays."
   ]
  },
  {
   "cell_type": "code",
   "execution_count": 1,
   "id": "7b94fe4d",
   "metadata": {},
   "outputs": [
    {
     "name": "stdout",
     "output_type": "stream",
     "text": [
      "[1 2 3 4 5]\n"
     ]
    }
   ],
   "source": [
    "import numpy as np\n",
    "arr=np.array([1,2,3,4,5])\n",
    "\n",
    "print(arr)"
   ]
  },
  {
   "cell_type": "code",
   "execution_count": 2,
   "id": "bb2d1415",
   "metadata": {},
   "outputs": [
    {
     "name": "stdout",
     "output_type": "stream",
     "text": [
      "1\n",
      "2\n",
      "3\n",
      "4\n",
      "5\n"
     ]
    }
   ],
   "source": [
    "for i in arr:\n",
    "    print(i)"
   ]
  },
  {
   "cell_type": "code",
   "execution_count": 3,
   "id": "c46e13ca",
   "metadata": {},
   "outputs": [
    {
     "name": "stdout",
     "output_type": "stream",
     "text": [
      "1 2 3 4 5 "
     ]
    }
   ],
   "source": [
    "for i in arr:\n",
    "    print(i,end=' ') "
   ]
  },
  {
   "cell_type": "code",
   "execution_count": 36,
   "id": "3936c1f9",
   "metadata": {},
   "outputs": [
    {
     "name": "stdout",
     "output_type": "stream",
     "text": [
      "5\n"
     ]
    }
   ],
   "source": [
    "arr=np.array([1,2,3,4,5])\n",
    "print(arr.size)"
   ]
  },
  {
   "cell_type": "code",
   "execution_count": 5,
   "id": "6dfc0b10",
   "metadata": {},
   "outputs": [
    {
     "name": "stdout",
     "output_type": "stream",
     "text": [
      "[0. 0. 0. 0. 0.]\n"
     ]
    }
   ],
   "source": [
    "# Create an array with 5 zeroes\n",
    "arr1=np.zeros(5)\n",
    "print(arr1)"
   ]
  },
  {
   "cell_type": "code",
   "execution_count": 6,
   "id": "6707e700",
   "metadata": {},
   "outputs": [
    {
     "name": "stdout",
     "output_type": "stream",
     "text": [
      "[1. 1. 1. 1. 1.]\n"
     ]
    }
   ],
   "source": [
    "# Create an array with 5 ones\n",
    "arr2=np.ones(5)\n",
    "print(arr2)"
   ]
  },
  {
   "cell_type": "code",
   "execution_count": 8,
   "id": "fe52fd61",
   "metadata": {},
   "outputs": [
    {
     "name": "stdout",
     "output_type": "stream",
     "text": [
      "[ 5 10 13 15 36 54]\n"
     ]
    }
   ],
   "source": [
    "#Sorting elements in 1D array\n",
    "arr=np.array([13,15,10,5,54,36])\n",
    "print(np.sort(arr))"
   ]
  },
  {
   "cell_type": "code",
   "execution_count": null,
   "id": "b8a90478",
   "metadata": {},
   "outputs": [],
   "source": [
    "#Slicing an array\n",
    "#[start:end:step]\n",
    "#if values not specified then by default [0,len(arr),1]"
   ]
  },
  {
   "cell_type": "code",
   "execution_count": 9,
   "id": "b8eba500",
   "metadata": {},
   "outputs": [
    {
     "name": "stdout",
     "output_type": "stream",
     "text": [
      "[2 3 4 5]\n"
     ]
    }
   ],
   "source": [
    "arr=np.array([1,2,3,4,5,6,7])\n",
    "print(arr[1:5])"
   ]
  },
  {
   "cell_type": "code",
   "execution_count": 10,
   "id": "3dfb335c",
   "metadata": {},
   "outputs": [
    {
     "name": "stdout",
     "output_type": "stream",
     "text": [
      "[3 4 5 6 7]\n"
     ]
    }
   ],
   "source": [
    "print(arr[2:])"
   ]
  },
  {
   "cell_type": "code",
   "execution_count": 11,
   "id": "b24b36eb",
   "metadata": {},
   "outputs": [
    {
     "name": "stdout",
     "output_type": "stream",
     "text": [
      "[2 4]\n"
     ]
    }
   ],
   "source": [
    "print(arr[1:5:2])\n"
   ]
  },
  {
   "cell_type": "code",
   "execution_count": 15,
   "id": "f1f00908",
   "metadata": {},
   "outputs": [
    {
     "name": "stdout",
     "output_type": "stream",
     "text": [
      "[1 2 3 4 5]\n",
      "[ 6  7  8  9 10]\n"
     ]
    }
   ],
   "source": [
    "#Addition operation to array\n",
    "arr=np.array([1,2,3,4,5])\n",
    "print(arr)\n",
    "arr=arr+5\n",
    "print(arr)"
   ]
  },
  {
   "cell_type": "code",
   "execution_count": 16,
   "id": "e09c6404",
   "metadata": {},
   "outputs": [
    {
     "name": "stdout",
     "output_type": "stream",
     "text": [
      "[1 2 3 4 5]\n",
      "[-4 -3 -2 -1  0]\n"
     ]
    }
   ],
   "source": [
    "#subtraction operation to array\n",
    "arr=np.array([1,2,3,4,5])\n",
    "print(arr)\n",
    "arr=arr-5\n",
    "print(arr)"
   ]
  },
  {
   "cell_type": "code",
   "execution_count": 17,
   "id": "ec6261c8",
   "metadata": {},
   "outputs": [
    {
     "name": "stdout",
     "output_type": "stream",
     "text": [
      "[1 2 3 4 5]\n",
      "[ 5 10 15 20 25]\n"
     ]
    }
   ],
   "source": [
    "#Multiplication operation to array\n",
    "arr=np.array([1,2,3,4,5])\n",
    "print(arr)\n",
    "arr=arr*5\n",
    "print(arr)"
   ]
  },
  {
   "cell_type": "code",
   "execution_count": 19,
   "id": "a4158d1a",
   "metadata": {},
   "outputs": [
    {
     "name": "stdout",
     "output_type": "stream",
     "text": [
      "[ 5 10 15 20 25]\n",
      "[1. 2. 3. 4. 5.]\n"
     ]
    }
   ],
   "source": [
    "#division operation to array\n",
    "arr=np.array([5,10,15,20,25])\n",
    "print(arr)\n",
    "arr=arr/5\n",
    "print(arr)"
   ]
  },
  {
   "cell_type": "code",
   "execution_count": 22,
   "id": "60b2706d",
   "metadata": {},
   "outputs": [
    {
     "name": "stdout",
     "output_type": "stream",
     "text": [
      "(array([3, 5, 6], dtype=int64),)\n"
     ]
    }
   ],
   "source": [
    "#Searching an element in array\n",
    "arr=np.array([1,2,3,4,5,4,4])\n",
    "x=np.where(arr==4)\n",
    "print(x)"
   ]
  },
  {
   "cell_type": "code",
   "execution_count": 24,
   "id": "0cec62b7",
   "metadata": {},
   "outputs": [
    {
     "name": "stdout",
     "output_type": "stream",
     "text": [
      "(array([1, 3, 5, 7], dtype=int64),)\n"
     ]
    }
   ],
   "source": [
    "#Find the indexes where values are even\n",
    "arr=np.array([1,2,3,4,5,6,7,8])\n",
    "x=np.where(arr%2==0)\n",
    "print(x)"
   ]
  },
  {
   "cell_type": "code",
   "execution_count": 25,
   "id": "7a675976",
   "metadata": {},
   "outputs": [
    {
     "name": "stdout",
     "output_type": "stream",
     "text": [
      "[41 43]\n"
     ]
    }
   ],
   "source": [
    "#Filtering: Using a boolen index list\n",
    "arr=np.array([41,42,43,44])\n",
    "x=[True,False,True,False]\n",
    "newarr=arr[x]\n",
    "print(newarr)"
   ]
  },
  {
   "cell_type": "code",
   "execution_count": 31,
   "id": "2927e374",
   "metadata": {},
   "outputs": [
    {
     "name": "stdout",
     "output_type": "stream",
     "text": [
      "Not empty\n",
      "8\n"
     ]
    }
   ],
   "source": [
    "#Check wheather a given array is empty or not\n",
    "arr=np.array([1,2,3,4,5,6,7,8])\n",
    "#if len(arr)==0:\n",
    "if(arr.size ==0):\n",
    "    print(\"Empty\")\n",
    "else:\n",
    "    print(\"Not empty\")\n",
    "    print(len(arr))"
   ]
  },
  {
   "cell_type": "markdown",
   "id": "35500003",
   "metadata": {},
   "source": [
    "#### 2D ARRAY"
   ]
  },
  {
   "cell_type": "code",
   "execution_count": 32,
   "id": "752fce05",
   "metadata": {},
   "outputs": [
    {
     "name": "stdout",
     "output_type": "stream",
     "text": [
      "[[1 2 3]\n",
      " [4 5 6]]\n"
     ]
    }
   ],
   "source": [
    "arr=np.array([[1,2,3],[4,5,6]])\n",
    "print(arr)"
   ]
  },
  {
   "cell_type": "code",
   "execution_count": 34,
   "id": "e26f10e2",
   "metadata": {},
   "outputs": [
    {
     "name": "stdout",
     "output_type": "stream",
     "text": [
      "[1 2 3]\n",
      "[4 5 6]\n"
     ]
    }
   ],
   "source": [
    "for i in arr:\n",
    "    print(i)"
   ]
  },
  {
   "cell_type": "code",
   "execution_count": 35,
   "id": "c9d6b416",
   "metadata": {},
   "outputs": [
    {
     "name": "stdout",
     "output_type": "stream",
     "text": [
      "Dimension is  1\n",
      "Dimension is  2\n"
     ]
    }
   ],
   "source": [
    "#Whenever you want to comput dimension of the array then go for ndim attribute\n",
    "arr1=np.array([1,2,3,4])\n",
    "print(\"Dimension is \",arr1.ndim)\n",
    "arr2=np.array([[1,2,3],[4,5,6]])\n",
    "print(\"Dimension is \",arr2.ndim)"
   ]
  },
  {
   "cell_type": "code",
   "execution_count": 37,
   "id": "38754042",
   "metadata": {},
   "outputs": [
    {
     "name": "stdout",
     "output_type": "stream",
     "text": [
      "6\n"
     ]
    }
   ],
   "source": [
    "#Size Attribute\n",
    "arr=np.array([[1,2,3],[4,5,6]])\n",
    "print(arr.size)"
   ]
  },
  {
   "cell_type": "code",
   "execution_count": 40,
   "id": "b3b62d67",
   "metadata": {},
   "outputs": [
    {
     "name": "stdout",
     "output_type": "stream",
     "text": [
      "(3, 4)\n"
     ]
    }
   ],
   "source": [
    "#Shape attribute (to find order)\n",
    "arr=np.array([[1,2,3,6],[4,5,6,12],[7,8,14,9]])\n",
    "print(arr.shape)"
   ]
  },
  {
   "cell_type": "code",
   "execution_count": 42,
   "id": "755f5804",
   "metadata": {},
   "outputs": [
    {
     "name": "stdout",
     "output_type": "stream",
     "text": [
      "[[ 1  2]\n",
      " [ 3  6]\n",
      " [ 4  5]\n",
      " [ 6 12]\n",
      " [ 7  8]\n",
      " [14  9]]\n"
     ]
    }
   ],
   "source": [
    "#you can also reshape matrix like the above is 3*4\n",
    "#3*4=12\n",
    "#6*2=12\n",
    "#therfore to reshape above matrix \n",
    "arr=arr.reshape(6,2)\n",
    "print(arr)"
   ]
  },
  {
   "cell_type": "code",
   "execution_count": 43,
   "id": "8d6f3a7e",
   "metadata": {},
   "outputs": [
    {
     "name": "stdout",
     "output_type": "stream",
     "text": [
      "[[1. 0. 0. 0.]\n",
      " [0. 1. 0. 0.]\n",
      " [0. 0. 1. 0.]\n",
      " [0. 0. 0. 1.]]\n"
     ]
    }
   ],
   "source": [
    "#Create an identity matrix must be a square matrix\n",
    "\n",
    "#An identity matrix is a square matrix in which all the elements of principal\n",
    "#diagonals are one, and all other elements are zeros.\n",
    "arr=np.eye(4)\n",
    "print(arr)"
   ]
  },
  {
   "cell_type": "code",
   "execution_count": 45,
   "id": "270565a7",
   "metadata": {},
   "outputs": [
    {
     "name": "stdout",
     "output_type": "stream",
     "text": [
      "[1 2 3 4 5 6 7 8 9]\n"
     ]
    }
   ],
   "source": [
    "#arange() in python: Used to create array within given range\n",
    "#Similar to range() function in python\n",
    "#Syntax: arange([start,] stop[,step,], dtype=None)\n",
    "arr=np.arange(1,10)\n",
    "print(arr)"
   ]
  },
  {
   "cell_type": "code",
   "execution_count": 46,
   "id": "3a1f3383",
   "metadata": {},
   "outputs": [
    {
     "name": "stdout",
     "output_type": "stream",
     "text": [
      "[1 3 5 7 9]\n"
     ]
    }
   ],
   "source": [
    "arr=np.arange(1,10,2)\n",
    "print(arr)"
   ]
  },
  {
   "cell_type": "code",
   "execution_count": 47,
   "id": "de0c7323",
   "metadata": {},
   "outputs": [],
   "source": [
    "#Linspace()\n",
    "# numpy.linspace(start,\n",
    "#                stop,\n",
    "#                num = 50,\n",
    "#                endpoint = True,\n",
    "#                retstep = False,\n",
    "#                dtype = None)\n"
   ]
  },
  {
   "cell_type": "code",
   "execution_count": null,
   "id": "1c4e659d",
   "metadata": {},
   "outputs": [],
   "source": [
    "# -> start  : [optional] start of interval range. By default start = 0\n",
    "# -> stop   : end of interval range\n",
    "# -> restep : If True, return (samples, step). By default restep = False\n",
    "# -> num    : [int, optional] No. of samples to generate\n",
    "# -> dtype  : type of output array"
   ]
  },
  {
   "cell_type": "code",
   "execution_count": 49,
   "id": "6f70cf92",
   "metadata": {},
   "outputs": [
    {
     "name": "stdout",
     "output_type": "stream",
     "text": [
      "[ 1.          1.28571429  1.57142857  1.85714286  2.14285714  2.42857143\n",
      "  2.71428571  3.          3.28571429  3.57142857  3.85714286  4.14285714\n",
      "  4.42857143  4.71428571  5.          5.28571429  5.57142857  5.85714286\n",
      "  6.14285714  6.42857143  6.71428571  7.          7.28571429  7.57142857\n",
      "  7.85714286  8.14285714  8.42857143  8.71428571  9.          9.28571429\n",
      "  9.57142857  9.85714286 10.14285714 10.42857143 10.71428571 11.\n",
      " 11.28571429 11.57142857 11.85714286 12.14285714 12.42857143 12.71428571\n",
      " 13.         13.28571429 13.57142857 13.85714286 14.14285714 14.42857143\n",
      " 14.71428571 15.        ]\n"
     ]
    }
   ],
   "source": [
    "arr=np.linspace(1,15)\n",
    "print(arr)"
   ]
  },
  {
   "cell_type": "code",
   "execution_count": 50,
   "id": "7a81b407",
   "metadata": {},
   "outputs": [
    {
     "name": "stdout",
     "output_type": "stream",
     "text": [
      "[ 1.  2.  3.  4.  5.  6.  7.  8.  9. 10. 11. 12. 13. 14. 15.]\n"
     ]
    }
   ],
   "source": [
    "arr=np.linspace(1,15,15)\n",
    "print(arr)"
   ]
  },
  {
   "cell_type": "code",
   "execution_count": 51,
   "id": "8dcff8f6",
   "metadata": {},
   "outputs": [
    {
     "name": "stdout",
     "output_type": "stream",
     "text": [
      "[0.8289472  0.75384606 0.56315008 0.93940018 0.51491536]\n"
     ]
    }
   ],
   "source": [
    "#create 1D array with random numbers (numbers are b/w 0 to 1)\n",
    "arr=np.random.rand(5)\n",
    "print(arr)"
   ]
  },
  {
   "cell_type": "code",
   "execution_count": 17,
   "id": "96d5e48d",
   "metadata": {},
   "outputs": [
    {
     "name": "stdout",
     "output_type": "stream",
     "text": [
      "[[0.80995414 0.2643509  0.22651061]\n",
      " [0.50250146 0.87445816 0.76958528]\n",
      " [0.40169402 0.74298127 0.80181397]\n",
      " [0.48774572 0.21306895 0.17107104]\n",
      " [0.37789896 0.47157245 0.62961366]]\n"
     ]
    }
   ],
   "source": [
    "#create 2D array with random numbers\n",
    "arr=np.random.rand(5,3)\n",
    "print(arr)"
   ]
  },
  {
   "cell_type": "code",
   "execution_count": 21,
   "id": "f4900358",
   "metadata": {},
   "outputs": [
    {
     "name": "stdout",
     "output_type": "stream",
     "text": [
      "[24 49 72 82]\n"
     ]
    }
   ],
   "source": [
    "arr1 = np.random.randint(10,90,size=4)\n",
    "print(arr1)"
   ]
  },
  {
   "cell_type": "code",
   "execution_count": 15,
   "id": "20fd98d7",
   "metadata": {},
   "outputs": [
    {
     "name": "stdout",
     "output_type": "stream",
     "text": [
      "[[33 59 66 86 25]\n",
      " [57 21 15 73 84]\n",
      " [60 57 46 11 49]\n",
      " [66 18 18 25 88]]\n",
      "[[10 17 37 65 69]\n",
      " [88 18 23 85 13]\n",
      " [59 11 16 81 32]\n",
      " [80 27 53 22 13]]\n"
     ]
    }
   ],
   "source": [
    "arr1 = np.random.randint(10,90,size=(4,5))\n",
    "arr2 = np.random.randint(10,90,size=(4,5))\n",
    "print(arr1)\n",
    "print(arr2)"
   ]
  },
  {
   "cell_type": "code",
   "execution_count": 54,
   "id": "4a14d48c",
   "metadata": {},
   "outputs": [
    {
     "name": "stdout",
     "output_type": "stream",
     "text": [
      "[[1 0 0 0]\n",
      " [0 2 0 0]\n",
      " [0 0 3 0]\n",
      " [0 0 0 4]]\n"
     ]
    }
   ],
   "source": [
    "#Create a diagonal matrix\n",
    "arr=np.diag([1,2,3,4])\n",
    "print(arr)"
   ]
  },
  {
   "cell_type": "code",
   "execution_count": 2,
   "id": "49385cfd",
   "metadata": {},
   "outputs": [
    {
     "name": "stdout",
     "output_type": "stream",
     "text": [
      "[[1 2 3]\n",
      " [4 5 6]\n",
      " [7 8 9]]\n",
      "[1 2 3 4 5 6 7 8 9]\n"
     ]
    }
   ],
   "source": [
    "#Flatten a matrix\n",
    "#transform a matrix into 1D numpy array\n",
    "arr=np.array([[1,2,3],[4,5,6],[7,8,9]])\n",
    "print(arr)\n",
    "print(arr.flatten())"
   ]
  },
  {
   "cell_type": "code",
   "execution_count": 4,
   "id": "843d3bf7",
   "metadata": {},
   "outputs": [
    {
     "name": "stdout",
     "output_type": "stream",
     "text": [
      "[[1 2 3]\n",
      " [4 5 6]\n",
      " [7 8 9]]\n",
      "Sum of diagonal elements are  15\n",
      "Sum of diagonal elements are  15\n"
     ]
    }
   ],
   "source": [
    "#Trace of given matrix (Sum of the diagonal elements)\n",
    "arr=np.array([[1,2,3],[4,5,6],[7,8,9]])\n",
    "print(arr)\n",
    "print(\"Sum of diagonal elements are \",arr.trace())\n",
    "print(\"Sum of diagonal elements are \",sum(arr.diagonal()))"
   ]
  },
  {
   "cell_type": "code",
   "execution_count": 6,
   "id": "7a93ba3a",
   "metadata": {},
   "outputs": [
    {
     "name": "stdout",
     "output_type": "stream",
     "text": [
      "[[1 2]\n",
      " [4 5]\n",
      " [7 8]]\n",
      "[[1 4 7]\n",
      " [2 5 8]]\n"
     ]
    }
   ],
   "source": [
    "arr=np.array([[1,2],[4,5],[7,8]])\n",
    "print(arr)\n",
    "print(arr.transpose())"
   ]
  },
  {
   "cell_type": "code",
   "execution_count": 10,
   "id": "7794f5c0",
   "metadata": {},
   "outputs": [
    {
     "name": "stdout",
     "output_type": "stream",
     "text": [
      "[[1 2 3]\n",
      " [4 5 6]\n",
      " [7 8 9]]\n",
      "Transpose is \n",
      " [[1 4 7]\n",
      " [2 5 8]\n",
      " [3 6 9]]\n"
     ]
    }
   ],
   "source": [
    "arr=np.array([[1,2,3],[4,5,6],[7,8,9]])\n",
    "print(arr)\n",
    "print(\"Transpose is \\n\",arr.T)"
   ]
  },
  {
   "cell_type": "code",
   "execution_count": 13,
   "id": "679a7d89",
   "metadata": {},
   "outputs": [
    {
     "name": "stdout",
     "output_type": "stream",
     "text": [
      "[[1 2 3 4]\n",
      " [5 6 7 8]]\n",
      "8\n"
     ]
    }
   ],
   "source": [
    "#Negative indexing to access elements in 2D array\n",
    "arr=np.array([[1,2,3,4],[5,6,7,8]])\n",
    "print(arr)\n",
    "print(arr[1,-1])\n",
    "#1st parameter is row,second is elment"
   ]
  },
  {
   "cell_type": "code",
   "execution_count": null,
   "id": "436cb60f",
   "metadata": {},
   "outputs": [],
   "source": []
  }
 ],
 "metadata": {
  "kernelspec": {
   "display_name": "Python 3 (ipykernel)",
   "language": "python",
   "name": "python3"
  },
  "language_info": {
   "codemirror_mode": {
    "name": "ipython",
    "version": 3
   },
   "file_extension": ".py",
   "mimetype": "text/x-python",
   "name": "python",
   "nbconvert_exporter": "python",
   "pygments_lexer": "ipython3",
   "version": "3.11.3"
  }
 },
 "nbformat": 4,
 "nbformat_minor": 5
}
